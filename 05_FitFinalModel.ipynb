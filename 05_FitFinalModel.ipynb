{
 "cells": [
  {
   "cell_type": "code",
   "execution_count": 4,
   "metadata": {},
   "outputs": [],
   "source": [
    "import sys\n",
    "sys.path.insert(0, './scripts')"
   ]
  },
  {
   "cell_type": "code",
   "execution_count": 5,
   "metadata": {},
   "outputs": [],
   "source": [
    "from helpers import get_data, mean_abs_error\n",
    "from preprocessor import preprocessor\n",
    "from sklearn.ensemble import GradientBoostingRegressor\n",
    "from sklearn.pipeline import Pipeline\n",
    "import pandas as pd\n",
    "import numpy as np\n",
    "import matplotlib.pyplot as plt"
   ]
  },
  {
   "cell_type": "markdown",
   "metadata": {},
   "source": [
    "## Create Model Object\n",
    "\n",
    "Now this is the fun part, where all our careful work to ensure we lived into good code standards pays off. We'll use a Scikit-Learn Pipeline to combine the preprocessing and GBM steps into one package.\n",
    "\n",
    "The pipeline object called my_model implements fit and predict methods (among others). When we call the fit method, the pipeline will execute preprocessor.fit_transform() on the data we pass in the arguments, then pass that result to GradientBoostingRegressor.fit(). Similarly, when we call the predict method, it will execute preprocessor.transform() and then GradientBoostingRegressor.predict().\n",
    "\n",
    "Another major benefit of living into the fit, transform, predict paradigm of Scikit-Learn is that you can add other preprocessing steps (like PCA or some other feature transformation) into the pipeline with little modification to existing code. Finally, if any of the steps required parameter tuning (like chosing the number of principal components to use in your model), you can tune them all at once by implementing the steps in a pipeline then using a parameter selection method like Grid Search on the entire pipeline."
   ]
  },
  {
   "cell_type": "code",
   "execution_count": 6,
   "metadata": {},
   "outputs": [],
   "source": [
    "p = preprocessor(cols_to_filter=['rawcensustractandblock', 'censustractandblock', 'propertyzoningdesc', \n",
    "                                 'regionidneighborhood', 'regionidzip', 'parcelid'], datecols=['transactiondate'])\n",
    "\n",
    "gbm = GradientBoostingRegressor(n_estimators=1000, max_depth=3, learning_rate=0.1, loss='lad', subsample=0.5)\n",
    "\n",
    "my_model = Pipeline(steps=[('preprocessor', p),('regressor', gbm)])"
   ]
  },
  {
   "cell_type": "markdown",
   "metadata": {},
   "source": [
    "## Fit Final Model"
   ]
  },
  {
   "cell_type": "code",
   "execution_count": 7,
   "metadata": {},
   "outputs": [
    {
     "name": "stderr",
     "output_type": "stream",
     "text": [
      "C:\\Users\\sac\\Anaconda3\\lib\\site-packages\\IPython\\core\\interactiveshell.py:3331: DtypeWarning: Columns (22,32,34,49,55) have mixed types.Specify dtype option on import or set low_memory=False.\n",
      "  exec(code_obj, self.user_global_ns, self.user_ns)\n"
     ]
    }
   ],
   "source": [
    "X_train, y_train = get_data('train')"
   ]
  },
  {
   "cell_type": "code",
   "execution_count": 8,
   "metadata": {},
   "outputs": [
    {
     "data": {
      "text/plain": [
       "Pipeline(steps=[('preprocessor',\n",
       "                 <preprocessor.preprocessor object at 0x000000463E1173C8>),\n",
       "                ('regressor',\n",
       "                 GradientBoostingRegressor(loss='lad', n_estimators=1000,\n",
       "                                           subsample=0.5))])"
      ]
     },
     "execution_count": 8,
     "metadata": {},
     "output_type": "execute_result"
    }
   ],
   "source": [
    "my_model.fit(X_train, y_train)"
   ]
  },
  {
   "cell_type": "markdown",
   "metadata": {},
   "source": [
    "## Score Test Dataset\n",
    "We should only do this once or a handful of times because it's possible to overfit the test set. Remember this is the test dataset that was released after the competition was over, but is not the same format as what is scored as part of the competition. Our final evaluation will be making a Kaggle submission, however we can use this test set to visualize our model results on an out-of-time test set, meaning this data is from another time period as the data we trained the model on."
   ]
  },
  {
   "cell_type": "code",
   "execution_count": 9,
   "metadata": {},
   "outputs": [
    {
     "name": "stderr",
     "output_type": "stream",
     "text": [
      "C:\\Users\\sac\\Anaconda3\\lib\\site-packages\\IPython\\core\\interactiveshell.py:3331: DtypeWarning: Columns (49) have mixed types.Specify dtype option on import or set low_memory=False.\n",
      "  exec(code_obj, self.user_global_ns, self.user_ns)\n"
     ]
    }
   ],
   "source": [
    "X_test, y_test = get_data('test')\n",
    "y_pred = my_model.predict(X_test)"
   ]
  },
  {
   "cell_type": "markdown",
   "metadata": {},
   "source": [
    "## Evaluate Model "
   ]
  },
  {
   "cell_type": "code",
   "execution_count": 10,
   "metadata": {},
   "outputs": [
    {
     "data": {
      "text/plain": [
       "0.06970475324840694"
      ]
     },
     "execution_count": 10,
     "metadata": {},
     "output_type": "execute_result"
    }
   ],
   "source": [
    "# Using the naive median prediction method\n",
    "mean_abs_error(y_test, y_train.median())"
   ]
  },
  {
   "cell_type": "code",
   "execution_count": 11,
   "metadata": {},
   "outputs": [
    {
     "data": {
      "text/plain": [
       "0.06933217248453577"
      ]
     },
     "execution_count": 11,
     "metadata": {},
     "output_type": "execute_result"
    }
   ],
   "source": [
    "# using our actual model\n",
    "mean_abs_error(y_test, y_pred)"
   ]
  },
  {
   "cell_type": "markdown",
   "metadata": {},
   "source": [
    "## Plot the Model Results\n",
    "\n",
    "__Actuals vs. Predictions__"
   ]
  },
  {
   "cell_type": "code",
   "execution_count": 12,
   "metadata": {},
   "outputs": [
    {
     "data": {
      "image/png": "[encoded data removed]",
      "text/plain": [
       "<Figure size 432x288 with 1 Axes>"
      ]
     },
     "metadata": {
      "needs_background": "light"
     },
     "output_type": "display_data"
    }
   ],
   "source": [
    "plt.scatter(y_test, y_pred, s=1)\n",
    "plt.ylim(-5, 5)\n",
    "plt.xlabel('True')\n",
    "plt.ylabel(\"Pred\")\n",
    "plt.show()"
   ]
  },
  {
   "cell_type": "markdown",
   "metadata": {},
   "source": [
    "This plot shows exactly where our lack of predictive power is coming from: our model is predicting everything really close to the average or median (probably median given our choice of loss function) instead of making useful predictions."
   ]
  },
  {
   "cell_type": "code",
   "execution_count": 13,
   "metadata": {},
   "outputs": [
    {
     "data": {
      "image/png": "[encoded data removed]",
      "text/plain": [
       "<Figure size 432x288 with 1 Axes>"
      ]
     },
     "metadata": {
      "needs_background": "light"
     },
     "output_type": "display_data"
    }
   ],
   "source": [
    "def plot_hists(y_test, y_pred):\n",
    "    \n",
    "    plt.hist(y_test, label='true')\n",
    "    plt.hist(y_pred, label='pred')\n",
    "    plt.yscale('log')\n",
    "    plt.legend()\n",
    "    plt.show()\n",
    "\n",
    "plot_hists(y_test, y_pred)"
   ]
  },
  {
   "cell_type": "markdown",
   "metadata": {},
   "source": [
    "Notice how our model predictions have far less variance than our true response values."
   ]
  },
  {
   "cell_type": "code",
   "execution_count": 14,
   "metadata": {},
   "outputs": [],
   "source": [
    "import joblib   # Compared to pickle, joblib works more efficient on objects that carry large numpy arrays internally."
   ]
  },
  {
   "cell_type": "code",
   "execution_count": 15,
   "metadata": {},
   "outputs": [
    {
     "data": {
      "text/plain": [
       "['models/model.pkl']"
      ]
     },
     "execution_count": 15,
     "metadata": {},
     "output_type": "execute_result"
    }
   ],
   "source": [
    "joblib.dump(my_model, 'models/model.pkl')"
   ]
  }
 ],
 "metadata": {
  "kernelspec": {
   "display_name": "Python 3",
   "language": "python",
   "name": "python3"
  },
  "language_info": {
   "codemirror_mode": {
    "name": "ipython",
    "version": 3
   },
   "file_extension": ".py",
   "mimetype": "text/x-python",
   "name": "python",
   "nbconvert_exporter": "python",
   "pygments_lexer": "ipython3",
   "version": "3.7.7"
  }
 },
 "nbformat": 4,
 "nbformat_minor": 4
}
